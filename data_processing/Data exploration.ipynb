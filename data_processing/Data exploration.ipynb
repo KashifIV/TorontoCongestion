{
 "cells": [
  {
   "cell_type": "code",
   "execution_count": 31,
   "id": "3068d742",
   "metadata": {},
   "outputs": [],
   "source": [
    "import pandas as pd\n",
    "import matplotlib.pyplot as plt\n",
    "import numpy as np"
   ]
  },
  {
   "cell_type": "markdown",
   "id": "6d634719",
   "metadata": {},
   "source": [
    "## TTC"
   ]
  },
  {
   "cell_type": "code",
   "execution_count": 2,
   "id": "80a7d680",
   "metadata": {},
   "outputs": [
    {
     "data": {
      "text/html": [
       "<div>\n",
       "<style scoped>\n",
       "    .dataframe tbody tr th:only-of-type {\n",
       "        vertical-align: middle;\n",
       "    }\n",
       "\n",
       "    .dataframe tbody tr th {\n",
       "        vertical-align: top;\n",
       "    }\n",
       "\n",
       "    .dataframe thead th {\n",
       "        text-align: right;\n",
       "    }\n",
       "</style>\n",
       "<table border=\"1\" class=\"dataframe\">\n",
       "  <thead>\n",
       "    <tr style=\"text-align: right;\">\n",
       "      <th></th>\n",
       "      <th>Measure Name</th>\n",
       "      <th>Year</th>\n",
       "      <th>Period</th>\n",
       "      <th>Value</th>\n",
       "    </tr>\n",
       "  </thead>\n",
       "  <tbody>\n",
       "    <tr>\n",
       "      <th>0</th>\n",
       "      <td>TTC Ridership Revenues</td>\n",
       "      <td>2007</td>\n",
       "      <td>Jan</td>\n",
       "      <td>70600000</td>\n",
       "    </tr>\n",
       "  </tbody>\n",
       "</table>\n",
       "</div>"
      ],
      "text/plain": [
       "             Measure Name  Year Period     Value\n",
       "0  TTC Ridership Revenues  2007    Jan  70600000"
      ]
     },
     "execution_count": 2,
     "metadata": {},
     "output_type": "execute_result"
    }
   ],
   "source": [
    "ttc = pd.read_csv('./Datasets/TorontoMeasureData.csv')\n",
    "ttc.head(1)"
   ]
  },
  {
   "cell_type": "code",
   "execution_count": 13,
   "id": "c85d4964",
   "metadata": {},
   "outputs": [
    {
     "data": {
      "text/plain": [
       "['TTC Average Weekday Ridership',\n",
       " 'TTC Ridership Revenues',\n",
       " 'TTC Annual Passenger Rides Non-Peak (000s)',\n",
       " 'TTC Annual Passenger Rides Peak (000s)',\n",
       " 'TTC Monthly Ridership']"
      ]
     },
     "execution_count": 13,
     "metadata": {},
     "output_type": "execute_result"
    }
   ],
   "source": [
    "measures = list(set(ttc['Measure Name']))\n",
    "measures"
   ]
  },
  {
   "cell_type": "code",
   "execution_count": 14,
   "id": "0ef9e68b",
   "metadata": {},
   "outputs": [],
   "source": [
    "# split dataset\n",
    "ttc_annual_passenger_np = ttc[ttc['Measure Name'] == measures[2]]\n",
    "ttc_annual_passenger_p = ttc[ttc['Measure Name'] == measures[3]]\n",
    "ttc_weekday_ridership = ttc[ttc['Measure Name'] == measures[0]]\n",
    "ttc_monthly_ridership = ttc[ttc['Measure Name'] == measures[4]]\n",
    "ttc_ridership_rev = ttc[ttc['Measure Name'] == measures[1]]"
   ]
  },
  {
   "cell_type": "markdown",
   "id": "38ca2eac",
   "metadata": {},
   "source": [
    "Verify"
   ]
  },
  {
   "cell_type": "code",
   "execution_count": 15,
   "id": "75626435",
   "metadata": {},
   "outputs": [
    {
     "data": {
      "text/html": [
       "<div>\n",
       "<style scoped>\n",
       "    .dataframe tbody tr th:only-of-type {\n",
       "        vertical-align: middle;\n",
       "    }\n",
       "\n",
       "    .dataframe tbody tr th {\n",
       "        vertical-align: top;\n",
       "    }\n",
       "\n",
       "    .dataframe thead th {\n",
       "        text-align: right;\n",
       "    }\n",
       "</style>\n",
       "<table border=\"1\" class=\"dataframe\">\n",
       "  <thead>\n",
       "    <tr style=\"text-align: right;\">\n",
       "      <th></th>\n",
       "      <th>Measure Name</th>\n",
       "      <th>Year</th>\n",
       "      <th>Period</th>\n",
       "      <th>Value</th>\n",
       "    </tr>\n",
       "  </thead>\n",
       "  <tbody>\n",
       "    <tr>\n",
       "      <th>378</th>\n",
       "      <td>TTC Annual Passenger Rides Non-Peak (000s)</td>\n",
       "      <td>2003</td>\n",
       "      <td>NaN</td>\n",
       "      <td>213847</td>\n",
       "    </tr>\n",
       "  </tbody>\n",
       "</table>\n",
       "</div>"
      ],
      "text/plain": [
       "                                   Measure Name  Year Period   Value\n",
       "378  TTC Annual Passenger Rides Non-Peak (000s)  2003    NaN  213847"
      ]
     },
     "execution_count": 15,
     "metadata": {},
     "output_type": "execute_result"
    }
   ],
   "source": [
    "ttc_annual_passenger_np.head(1)"
   ]
  },
  {
   "cell_type": "code",
   "execution_count": 16,
   "id": "6a3dfcbd",
   "metadata": {},
   "outputs": [
    {
     "data": {
      "text/html": [
       "<div>\n",
       "<style scoped>\n",
       "    .dataframe tbody tr th:only-of-type {\n",
       "        vertical-align: middle;\n",
       "    }\n",
       "\n",
       "    .dataframe tbody tr th {\n",
       "        vertical-align: top;\n",
       "    }\n",
       "\n",
       "    .dataframe thead th {\n",
       "        text-align: right;\n",
       "    }\n",
       "</style>\n",
       "<table border=\"1\" class=\"dataframe\">\n",
       "  <thead>\n",
       "    <tr style=\"text-align: right;\">\n",
       "      <th></th>\n",
       "      <th>Measure Name</th>\n",
       "      <th>Year</th>\n",
       "      <th>Period</th>\n",
       "      <th>Value</th>\n",
       "    </tr>\n",
       "  </thead>\n",
       "  <tbody>\n",
       "    <tr>\n",
       "      <th>360</th>\n",
       "      <td>TTC Annual Passenger Rides Peak (000s)</td>\n",
       "      <td>2003</td>\n",
       "      <td>NaN</td>\n",
       "      <td>191565</td>\n",
       "    </tr>\n",
       "  </tbody>\n",
       "</table>\n",
       "</div>"
      ],
      "text/plain": [
       "                               Measure Name  Year Period   Value\n",
       "360  TTC Annual Passenger Rides Peak (000s)  2003    NaN  191565"
      ]
     },
     "execution_count": 16,
     "metadata": {},
     "output_type": "execute_result"
    }
   ],
   "source": [
    "ttc_annual_passenger_p.head(1)"
   ]
  },
  {
   "cell_type": "code",
   "execution_count": 17,
   "id": "950d886a",
   "metadata": {},
   "outputs": [
    {
     "data": {
      "text/html": [
       "<div>\n",
       "<style scoped>\n",
       "    .dataframe tbody tr th:only-of-type {\n",
       "        vertical-align: middle;\n",
       "    }\n",
       "\n",
       "    .dataframe tbody tr th {\n",
       "        vertical-align: top;\n",
       "    }\n",
       "\n",
       "    .dataframe thead th {\n",
       "        text-align: right;\n",
       "    }\n",
       "</style>\n",
       "<table border=\"1\" class=\"dataframe\">\n",
       "  <thead>\n",
       "    <tr style=\"text-align: right;\">\n",
       "      <th></th>\n",
       "      <th>Measure Name</th>\n",
       "      <th>Year</th>\n",
       "      <th>Period</th>\n",
       "      <th>Value</th>\n",
       "    </tr>\n",
       "  </thead>\n",
       "  <tbody>\n",
       "    <tr>\n",
       "      <th>180</th>\n",
       "      <td>TTC Average Weekday Ridership</td>\n",
       "      <td>2007</td>\n",
       "      <td>Jan</td>\n",
       "      <td>1400000</td>\n",
       "    </tr>\n",
       "  </tbody>\n",
       "</table>\n",
       "</div>"
      ],
      "text/plain": [
       "                      Measure Name  Year Period    Value\n",
       "180  TTC Average Weekday Ridership  2007    Jan  1400000"
      ]
     },
     "execution_count": 17,
     "metadata": {},
     "output_type": "execute_result"
    }
   ],
   "source": [
    "ttc_weekday_ridership.head(1)"
   ]
  },
  {
   "cell_type": "code",
   "execution_count": 18,
   "id": "7c358c12",
   "metadata": {},
   "outputs": [
    {
     "data": {
      "text/html": [
       "<div>\n",
       "<style scoped>\n",
       "    .dataframe tbody tr th:only-of-type {\n",
       "        vertical-align: middle;\n",
       "    }\n",
       "\n",
       "    .dataframe tbody tr th {\n",
       "        vertical-align: top;\n",
       "    }\n",
       "\n",
       "    .dataframe thead th {\n",
       "        text-align: right;\n",
       "    }\n",
       "</style>\n",
       "<table border=\"1\" class=\"dataframe\">\n",
       "  <thead>\n",
       "    <tr style=\"text-align: right;\">\n",
       "      <th></th>\n",
       "      <th>Measure Name</th>\n",
       "      <th>Year</th>\n",
       "      <th>Period</th>\n",
       "      <th>Value</th>\n",
       "    </tr>\n",
       "  </thead>\n",
       "  <tbody>\n",
       "    <tr>\n",
       "      <th>396</th>\n",
       "      <td>TTC Monthly Ridership</td>\n",
       "      <td>2008</td>\n",
       "      <td>Jan</td>\n",
       "      <td>39242000</td>\n",
       "    </tr>\n",
       "  </tbody>\n",
       "</table>\n",
       "</div>"
      ],
      "text/plain": [
       "              Measure Name  Year Period     Value\n",
       "396  TTC Monthly Ridership  2008    Jan  39242000"
      ]
     },
     "execution_count": 18,
     "metadata": {},
     "output_type": "execute_result"
    }
   ],
   "source": [
    "ttc_monthly_ridership.head(1)"
   ]
  },
  {
   "cell_type": "code",
   "execution_count": 19,
   "id": "7d84b738",
   "metadata": {},
   "outputs": [
    {
     "data": {
      "text/html": [
       "<div>\n",
       "<style scoped>\n",
       "    .dataframe tbody tr th:only-of-type {\n",
       "        vertical-align: middle;\n",
       "    }\n",
       "\n",
       "    .dataframe tbody tr th {\n",
       "        vertical-align: top;\n",
       "    }\n",
       "\n",
       "    .dataframe thead th {\n",
       "        text-align: right;\n",
       "    }\n",
       "</style>\n",
       "<table border=\"1\" class=\"dataframe\">\n",
       "  <thead>\n",
       "    <tr style=\"text-align: right;\">\n",
       "      <th></th>\n",
       "      <th>Measure Name</th>\n",
       "      <th>Year</th>\n",
       "      <th>Period</th>\n",
       "      <th>Value</th>\n",
       "    </tr>\n",
       "  </thead>\n",
       "  <tbody>\n",
       "    <tr>\n",
       "      <th>0</th>\n",
       "      <td>TTC Ridership Revenues</td>\n",
       "      <td>2007</td>\n",
       "      <td>Jan</td>\n",
       "      <td>70600000</td>\n",
       "    </tr>\n",
       "  </tbody>\n",
       "</table>\n",
       "</div>"
      ],
      "text/plain": [
       "             Measure Name  Year Period     Value\n",
       "0  TTC Ridership Revenues  2007    Jan  70600000"
      ]
     },
     "execution_count": 19,
     "metadata": {},
     "output_type": "execute_result"
    }
   ],
   "source": [
    "ttc_ridership_rev.head(1)"
   ]
  },
  {
   "cell_type": "markdown",
   "id": "1d407c86",
   "metadata": {},
   "source": [
    "## Monthly ridership"
   ]
  },
  {
   "cell_type": "code",
   "execution_count": 59,
   "id": "0c1bb260",
   "metadata": {},
   "outputs": [
    {
     "data": {
      "text/plain": [
       "array(['Jan', 'Feb', 'Mar', 'Apr', 'May', 'Jun', 'Jul', 'Aug', 'Sep',\n",
       "       'Oct', 'Nov', 'Dec'], dtype=object)"
      ]
     },
     "execution_count": 59,
     "metadata": {},
     "output_type": "execute_result"
    }
   ],
   "source": [
    "months = ttc_monthly_ridership.iloc[:12]['Period'].values\n",
    "months"
   ]
  },
  {
   "cell_type": "code",
   "execution_count": 60,
   "id": "03dbf003",
   "metadata": {},
   "outputs": [
    {
     "data": {
      "text/plain": [
       "{'Jan': array([39242000, 38164000, 37403000, 38249000, 37936000, 46045000,\n",
       "        45612000, 45027000, 43490000, 39606000, 47565000, 45792000,\n",
       "        44678000, 10895000]),\n",
       " 'Feb': array([35150000, 36772000, 36780000, 38043000, 39251000, 40655000,\n",
       "        41527000, 41682000, 40371000, 40966000, 41112000, 39421000,\n",
       "        40326000, 10897000]),\n",
       " 'Mar': array([44924000, 45583000, 44902000, 48174000, 49555000, 50204000,\n",
       "        51320000, 50982000, 50867000, 51768000, 50732000, 51989000,\n",
       "        26783000, 15665000]),\n",
       " 'Apr': array([33965000, 35620000, 36178000, 37900000, 38949000, 40766000,\n",
       "        40740000, 42045000, 42816000, 41978000, 41302000, 39413000,\n",
       "         5037000, 11038000]),\n",
       " 'May': array([35357000, 36377000, 36823000, 38786000, 38951000, 40114000,\n",
       "        41040000, 41505000, 41308000, 40598000, 39941000, 39989000,\n",
       "         6529000, 11452000]),\n",
       " 'Jun': array([43944000, 44292000, 44980000, 48086000, 50362000, 50389000,\n",
       "        50146000, 49881000, 51285000, 52528000, 50966000, 51209000,\n",
       "        11237000, 16599000]),\n",
       " 'Jul': array([35532000, 35386000, 36427000, 38128000, 37384000, 38989000,\n",
       "        39939000, 39247000, 41274000, 40182000, 39054000, 39758000,\n",
       "        13122000, 15610000]),\n",
       " 'Aug': array([34919000, 34056000, 34479000, 35277000, 36753000, 38400000,\n",
       "        38795000, 38275000, 37974000, 38144000, 37217000, 38453000,\n",
       "        14622000, 16707000]),\n",
       " 'Sep': array([47629000, 47842000, 48479000, 50446000, 51614000, 53046000,\n",
       "        53197000, 52277000, 52481000, 52473000, 41986000, 53236000,\n",
       "        19661000, 23587000]),\n",
       " 'Oct': array([38162000, 37945000, 38956000, 40463000, 41339000, 42301000,\n",
       "        43581000, 42918000, 43064000, 42279000, 40934000, 41624000,\n",
       "        14750000, 20451000]),\n",
       " 'Nov': array([39630000, 38732000, 39174000, 40661000, 42202000, 43328000,\n",
       "        45322000, 44175000, 44112000, 43080000, 52207000, 43707000,\n",
       "        14584000, 21646000]),\n",
       " 'Dec': array([38246000, 40464000, 42776000, 46006000, 49711000, 40957000,\n",
       "        43596000, 45991000, 49037000, 49614000, 38388000, 40879000,\n",
       "        13671000, 23294000])}"
      ]
     },
     "execution_count": 60,
     "metadata": {},
     "output_type": "execute_result"
    }
   ],
   "source": [
    "monthly_data = {}\n",
    "\n",
    "for m in months:\n",
    "    monthly_data[m] = ttc_monthly_ridership[ttc_monthly_ridership['Period'] == m]['Value'].values\n",
    "\n",
    "monthly_data"
   ]
  },
  {
   "cell_type": "code",
   "execution_count": 61,
   "id": "d3336db0",
   "metadata": {},
   "outputs": [
    {
     "data": {
      "text/plain": [
       "[Text(1, 0, 'Jan'),\n",
       " Text(2, 0, 'Feb'),\n",
       " Text(3, 0, 'Mar'),\n",
       " Text(4, 0, 'Apr'),\n",
       " Text(5, 0, 'May'),\n",
       " Text(6, 0, 'Jun'),\n",
       " Text(7, 0, 'Jul'),\n",
       " Text(8, 0, 'Aug'),\n",
       " Text(9, 0, 'Sep'),\n",
       " Text(10, 0, 'Oct'),\n",
       " Text(11, 0, 'Nov'),\n",
       " Text(12, 0, 'Dec')]"
      ]
     },
     "execution_count": 61,
     "metadata": {},
     "output_type": "execute_result"
    },
    {
     "data": {
      "image/png": "[encoded data removed]",
      "text/plain": [
       "<Figure size 432x288 with 1 Axes>"
      ]
     },
     "metadata": {
      "needs_background": "light"
     },
     "output_type": "display_data"
    }
   ],
   "source": [
    "fig, ax = plt.subplots()\n",
    "ax.boxplot(monthly_data.values())\n",
    "ax.set_xticklabels(monthly_data.keys())"
   ]
  },
  {
   "cell_type": "code",
   "execution_count": null,
   "id": "9e3e52de",
   "metadata": {},
   "outputs": [],
   "source": []
  },
  {
   "cell_type": "markdown",
   "id": "0b52e0fd",
   "metadata": {},
   "source": [
    "## Monthly Revenue (across the years)"
   ]
  },
  {
   "cell_type": "code",
   "execution_count": 76,
   "id": "c008605f",
   "metadata": {},
   "outputs": [
    {
     "data": {
      "text/plain": [
       "{'Jan': array([1400000, 1379000, 1448000, 1474000, 1540000, 1599000, 1606000,\n",
       "        1651000, 1697000, 1695000, 1653000, 1608000, 1625000, 1670000,\n",
       "         421000]),\n",
       " 'Feb': array([1486000, 1476000, 1536000, 1538000, 1595000, 1643000, 1702000,\n",
       "        1734000, 1739000, 1675000, 1710000, 1731000, 1670000, 1726000,\n",
       "         451000]),\n",
       " 'Mar': array([1485000, 1519000, 1487000, 1489000, 1568000, 1613000, 1672000,\n",
       "        1665000, 1689000, 1675000, 1685000, 1700000, 1725000,  972000,\n",
       "         509000]),\n",
       " 'Apr': array([1491000, 1446000, 1499000, 1500000, 1539000, 1614000, 1650000,\n",
       "        1682000, 1711000, 1736000, 1737000, 1689000, 1681000,  205000,\n",
       "         449000]),\n",
       " 'May': array([1474000, 1479000, 1517000, 1530000, 1602000, 1609000, 1661000,\n",
       "        1700000, 1722000, 1697000, 1686000, 1679000, 1683000,  263000,\n",
       "         464000]),\n",
       " 'Jun': array([1473000, 1459000, 1467000, 1492000, 1579000, 1627000, 1670000,\n",
       "        1650000, 1640000, 1675000, 1698000, 1710000, 1725000,  345000,\n",
       "         524000]),\n",
       " 'Jul': array([1391000, 1444000, 1435000, 1473000, 1528000, 1528000, 1564000,\n",
       "        1603000, 1594000, 1653000, 1656000, 1595000, 1627000,  512000,\n",
       "         604000]),\n",
       " 'Aug': array([1356000, 1434000, 1328000, 1412000, 1449000, 1515000, 1562000,\n",
       "        1582000, 1566000, 1556000, 1572000, 1530000, 1596000,  586000,\n",
       "         661000]),\n",
       " 'Sep': array([1549000, 1574000, 1586000, 1615000, 1689000, 1727000, 1743000,\n",
       "        1739000, 1717000, 1742000, 1753000, 1754000, 1798000,  629000,\n",
       "         759000]),\n",
       " 'Oct': array([1531000, 1520000, 1578000, 1622000, 1678000, 1712000, 1760000,\n",
       "        1816000, 1794000, 1788000, 1759000, 1682000, 1778000,  607000,\n",
       "         836000]),\n",
       " 'Nov': array([1538000, 1600000, 1568000, 1541000, 1639000, 1716000, 1751000,\n",
       "        1831000, 1784000, 1780000, 1753000, 1705000, 1807000,  578000,\n",
       "         856000]),\n",
       " 'Dec': array([1396000, 1484000, 1424000, 1457000, 1583000, 1655000, 1567000,\n",
       "        1589000, 1614000, 1607000, 1604000, 1544000, 1587000,  486000,\n",
       "         790000])}"
      ]
     },
     "execution_count": 76,
     "metadata": {},
     "output_type": "execute_result"
    }
   ],
   "source": [
    "rev_data = {}\n",
    "\n",
    "for m in months:\n",
    "    rev_data[m] = ttc_ridership_rev[ttc_ridership_rev['Period'] == m]['Value'].values\n",
    "\n",
    "weekday_data"
   ]
  },
  {
   "cell_type": "code",
   "execution_count": 77,
   "id": "19dd0ff4",
   "metadata": {},
   "outputs": [
    {
     "data": {
      "text/plain": [
       "[Text(1, 0, 'Jan'),\n",
       " Text(2, 0, 'Feb'),\n",
       " Text(3, 0, 'Mar'),\n",
       " Text(4, 0, 'Apr'),\n",
       " Text(5, 0, 'May'),\n",
       " Text(6, 0, 'Jun'),\n",
       " Text(7, 0, 'Jul'),\n",
       " Text(8, 0, 'Aug'),\n",
       " Text(9, 0, 'Sep'),\n",
       " Text(10, 0, 'Oct'),\n",
       " Text(11, 0, 'Nov'),\n",
       " Text(12, 0, 'Dec')]"
      ]
     },
     "execution_count": 77,
     "metadata": {},
     "output_type": "execute_result"
    },
    {
     "data": {
      "image/png": "[encoded data removed]",
      "text/plain": [
       "<Figure size 432x288 with 1 Axes>"
      ]
     },
     "metadata": {
      "needs_background": "light"
     },
     "output_type": "display_data"
    }
   ],
   "source": [
    "fig, ax = plt.subplots()\n",
    "ax.boxplot(rev_data.values())\n",
    "ax.set_xticklabels(rev_data.keys())"
   ]
  },
  {
   "cell_type": "code",
   "execution_count": null,
   "id": "13c37caf",
   "metadata": {},
   "outputs": [],
   "source": []
  },
  {
   "cell_type": "markdown",
   "id": "b92fd0b0",
   "metadata": {},
   "source": [
    "## Weekday ridership"
   ]
  },
  {
   "cell_type": "code",
   "execution_count": 66,
   "id": "4f92a6d7",
   "metadata": {},
   "outputs": [
    {
     "data": {
      "text/plain": [
       "{'Jan': array([1400000, 1379000, 1448000, 1474000, 1540000, 1599000, 1606000,\n",
       "        1651000, 1697000, 1695000, 1653000, 1608000, 1625000, 1670000,\n",
       "         421000]),\n",
       " 'Feb': array([1486000, 1476000, 1536000, 1538000, 1595000, 1643000, 1702000,\n",
       "        1734000, 1739000, 1675000, 1710000, 1731000, 1670000, 1726000,\n",
       "         451000]),\n",
       " 'Mar': array([1485000, 1519000, 1487000, 1489000, 1568000, 1613000, 1672000,\n",
       "        1665000, 1689000, 1675000, 1685000, 1700000, 1725000,  972000,\n",
       "         509000]),\n",
       " 'Apr': array([1491000, 1446000, 1499000, 1500000, 1539000, 1614000, 1650000,\n",
       "        1682000, 1711000, 1736000, 1737000, 1689000, 1681000,  205000,\n",
       "         449000]),\n",
       " 'May': array([1474000, 1479000, 1517000, 1530000, 1602000, 1609000, 1661000,\n",
       "        1700000, 1722000, 1697000, 1686000, 1679000, 1683000,  263000,\n",
       "         464000]),\n",
       " 'Jun': array([1473000, 1459000, 1467000, 1492000, 1579000, 1627000, 1670000,\n",
       "        1650000, 1640000, 1675000, 1698000, 1710000, 1725000,  345000,\n",
       "         524000]),\n",
       " 'Jul': array([1391000, 1444000, 1435000, 1473000, 1528000, 1528000, 1564000,\n",
       "        1603000, 1594000, 1653000, 1656000, 1595000, 1627000,  512000,\n",
       "         604000]),\n",
       " 'Aug': array([1356000, 1434000, 1328000, 1412000, 1449000, 1515000, 1562000,\n",
       "        1582000, 1566000, 1556000, 1572000, 1530000, 1596000,  586000,\n",
       "         661000]),\n",
       " 'Sep': array([1549000, 1574000, 1586000, 1615000, 1689000, 1727000, 1743000,\n",
       "        1739000, 1717000, 1742000, 1753000, 1754000, 1798000,  629000,\n",
       "         759000]),\n",
       " 'Oct': array([1531000, 1520000, 1578000, 1622000, 1678000, 1712000, 1760000,\n",
       "        1816000, 1794000, 1788000, 1759000, 1682000, 1778000,  607000,\n",
       "         836000]),\n",
       " 'Nov': array([1538000, 1600000, 1568000, 1541000, 1639000, 1716000, 1751000,\n",
       "        1831000, 1784000, 1780000, 1753000, 1705000, 1807000,  578000,\n",
       "         856000]),\n",
       " 'Dec': array([1396000, 1484000, 1424000, 1457000, 1583000, 1655000, 1567000,\n",
       "        1589000, 1614000, 1607000, 1604000, 1544000, 1587000,  486000,\n",
       "         790000])}"
      ]
     },
     "execution_count": 66,
     "metadata": {},
     "output_type": "execute_result"
    }
   ],
   "source": [
    "weekday_data = {}\n",
    "\n",
    "for m in months:\n",
    "    weekday_data[m] = ttc_weekday_ridership[ttc_weekday_ridership['Period'] == m]['Value'].values\n",
    "\n",
    "weekday_data"
   ]
  },
  {
   "cell_type": "code",
   "execution_count": 67,
   "id": "161b2a34",
   "metadata": {},
   "outputs": [
    {
     "data": {
      "text/plain": [
       "[Text(1, 0, 'Jan'),\n",
       " Text(2, 0, 'Feb'),\n",
       " Text(3, 0, 'Mar'),\n",
       " Text(4, 0, 'Apr'),\n",
       " Text(5, 0, 'May'),\n",
       " Text(6, 0, 'Jun'),\n",
       " Text(7, 0, 'Jul'),\n",
       " Text(8, 0, 'Aug'),\n",
       " Text(9, 0, 'Sep'),\n",
       " Text(10, 0, 'Oct'),\n",
       " Text(11, 0, 'Nov'),\n",
       " Text(12, 0, 'Dec')]"
      ]
     },
     "execution_count": 67,
     "metadata": {},
     "output_type": "execute_result"
    },
    {
     "data": {
      "image/png": "[encoded data removed]",
      "text/plain": [
       "<Figure size 432x288 with 1 Axes>"
      ]
     },
     "metadata": {
      "needs_background": "light"
     },
     "output_type": "display_data"
    }
   ],
   "source": [
    "fig, ax = plt.subplots()\n",
    "ax.boxplot(weekday_data.values())\n",
    "ax.set_xticklabels(weekday_data.keys())"
   ]
  },
  {
   "cell_type": "code",
   "execution_count": null,
   "id": "02ee54e8",
   "metadata": {},
   "outputs": [],
   "source": []
  },
  {
   "cell_type": "markdown",
   "id": "21eb1519",
   "metadata": {},
   "source": [
    "## Yearly Peak/Nonpeak"
   ]
  },
  {
   "cell_type": "code",
   "execution_count": 75,
   "id": "6ab7d374",
   "metadata": {},
   "outputs": [
    {
     "data": {
      "text/plain": [
       "<matplotlib.legend.Legend at 0x11d652350>"
      ]
     },
     "execution_count": 75,
     "metadata": {},
     "output_type": "execute_result"
    },
    {
     "data": {
      "image/png": "[encoded data removed]",
      "text/plain": [
       "<Figure size 792x360 with 1 Axes>"
      ]
     },
     "metadata": {
      "needs_background": "light"
     },
     "output_type": "display_data"
    }
   ],
   "source": [
    "plt.figure(figsize=(11,5))\n",
    "x_pos = np.arange(len(ttc_annual_passenger_p['Year']))\n",
    "plt.bar(x_pos, ttc_annual_passenger_np['Value'], color='b',label=\"Non peak\")\n",
    "plt.bar(x_pos, ttc_annual_passenger_p['Value'], bottom=ttc_annual_passenger_np['Value'], color='r',label=\"Peak\")\n",
    "plt.xticks(x_pos,ttc_annual_passenger_np['Year'])\n",
    "plt.legend()"
   ]
  },
  {
   "cell_type": "code",
   "execution_count": null,
   "id": "adbd66ca",
   "metadata": {},
   "outputs": [],
   "source": []
  }
 ],
 "metadata": {
  "kernelspec": {
   "display_name": "Python 3 (ipykernel)",
   "language": "python",
   "name": "python3"
  },
  "language_info": {
   "codemirror_mode": {
    "name": "ipython",
    "version": 3
   },
   "file_extension": ".py",
   "mimetype": "text/x-python",
   "name": "python",
   "nbconvert_exporter": "python",
   "pygments_lexer": "ipython3",
   "version": "3.10.0"
  }
 },
 "nbformat": 4,
 "nbformat_minor": 5
}
